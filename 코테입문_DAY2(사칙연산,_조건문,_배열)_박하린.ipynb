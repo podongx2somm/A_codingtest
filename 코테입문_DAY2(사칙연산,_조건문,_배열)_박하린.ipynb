{
  "nbformat": 4,
  "nbformat_minor": 0,
  "metadata": {
    "colab": {
      "provenance": [],
      "authorship_tag": "ABX9TyNhask6UrX3PX8iT71j2GY2",
      "include_colab_link": true
    },
    "kernelspec": {
      "name": "python3",
      "display_name": "Python 3"
    },
    "language_info": {
      "name": "python"
    }
  },
  "cells": [
    {
      "cell_type": "markdown",
      "metadata": {
        "id": "view-in-github",
        "colab_type": "text"
      },
      "source": [
        "<a href=\"https://colab.research.google.com/github/podongx2somm/A_codingtest/blob/park/%EC%BD%94%ED%85%8C%EC%9E%85%EB%AC%B8_DAY2(%EC%82%AC%EC%B9%99%EC%97%B0%EC%82%B0%2C_%EC%A1%B0%EA%B1%B4%EB%AC%B8%2C_%EB%B0%B0%EC%97%B4)_%EB%B0%95%ED%95%98%EB%A6%B0.ipynb\" target=\"_parent\"><img src=\"https://colab.research.google.com/assets/colab-badge.svg\" alt=\"Open In Colab\"/></a>"
      ]
    },
    {
      "cell_type": "markdown",
      "source": [
        "# 두 수의 나눗셈"
      ],
      "metadata": {
        "id": "AHgLiMZckLj6"
      }
    },
    {
      "cell_type": "markdown",
      "source": [
        "정수 num1과 num2가 매개변수로 주어질 때, num1을 num2로 나눈 값에 1,000을 곱한 후 정수 부분을 return 하도록 soltuion 함수를 완성해주세요."
      ],
      "metadata": {
        "id": "-H8_s_OmkYtB"
      }
    },
    {
      "cell_type": "code",
      "source": [
        "def solution(num1, num2):\n",
        "    answer = int((num1/num2)*1000)\n",
        "    return answer"
      ],
      "metadata": {
        "id": "9mqLq8ddkM9-"
      },
      "execution_count": null,
      "outputs": []
    },
    {
      "cell_type": "markdown",
      "source": [
        "# 숫자 비교하기"
      ],
      "metadata": {
        "id": "2wNO-vFbkNm1"
      }
    },
    {
      "cell_type": "markdown",
      "source": [
        "정수 num1과 num2가 매개변수로 주어집니다. 두 수가 같으면 1 다르면 -1을 retrun하도록 solution 함수를 완성해주세요."
      ],
      "metadata": {
        "id": "a77U26srkgss"
      }
    },
    {
      "cell_type": "code",
      "source": [
        "def solution(num1, num2):\n",
        "    answer = 0\n",
        "    if num1 == num2:\n",
        "        answer = 1\n",
        "    else:\n",
        "        answer = -1\n",
        "    return answer"
      ],
      "metadata": {
        "id": "qVCDgXTikPXb"
      },
      "execution_count": null,
      "outputs": []
    },
    {
      "cell_type": "markdown",
      "source": [
        "# 분수의 덧셈"
      ],
      "metadata": {
        "id": "bhHAK47Yw46Z"
      }
    },
    {
      "cell_type": "markdown",
      "source": [
        "첫 번째 분수의 분자와 분모를 뜻하는 numer1, denom1, 두 번째 분수의 분자와 분모를 뜻하는 numer2, denom2가 매개변수로 주어집니다. 두 분수를 더한 값을 기약 분수로 나타냈을 때 분자와 분모를 순서대로 담은 배열을 return 하도록 solution 함수를 완성해보세요."
      ],
      "metadata": {
        "id": "gXKl7nYFknR2"
      }
    },
    {
      "cell_type": "code",
      "source": [
        "def solution(numer1, denom1, numer2, denom2):\n",
        "\n",
        "    # 1. 두 분수의 합 계산\n",
        "    bunmo = denom1 * denom2\n",
        "    bunja = denom1 * numer2 + denom2 * numer1\n",
        "    \n",
        "    # 2. 최대공약수 계산\n",
        "    start = max(bunmo, bunja)\n",
        "    gcd_value = 1\n",
        "    \n",
        "    for num in range(start, 0, -1):\n",
        "        if bunmo % num == 0 and bunja % num == 0:\n",
        "            gcd_value = num\n",
        "            break\n",
        "\n",
        "    # 3. gcd 로 나눈 값을 answer에 담기\n",
        "    answer = [bunja / gcd_value, bunmo / gcd_value]\n",
        "    return answer\n",
        "\n",
        "\n",
        "    # 내가 시도했던 방법\n",
        "    total = (num1/denom1)+(num2/denom2)\n",
        "    if num1/denom1"
      ],
      "metadata": {
        "id": "VKSImnmKkS2U"
      },
      "execution_count": null,
      "outputs": []
    },
    {
      "cell_type": "markdown",
      "source": [
        "*   오답 이유: 두 분수를 더해야 하니까 분모를 최소공배수로 맞추려고만 하고 최대공약수를 이용할 생각은 못했다.\n",
        "*   분자는 분모를 곱해 더하고, 분모는 분모끼리 곱해 합을 먼저 구하는 방식\n",
        "\n"
      ],
      "metadata": {
        "id": "yCYZlcZJxBLz"
      }
    },
    {
      "cell_type": "markdown",
      "source": [
        "# 배열 두 배 만들기"
      ],
      "metadata": {
        "id": "cSCZi2WukUCi"
      }
    },
    {
      "cell_type": "code",
      "source": [],
      "metadata": {
        "id": "_MSD-PNakU2k"
      },
      "execution_count": null,
      "outputs": []
    }
  ]
}