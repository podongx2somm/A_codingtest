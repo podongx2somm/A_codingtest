{
  "nbformat": 4,
  "nbformat_minor": 0,
  "metadata": {
    "colab": {
      "provenance": [],
      "authorship_tag": "ABX9TyOSubomx0JlOF4kBCNupAO7",
      "include_colab_link": true
    },
    "kernelspec": {
      "name": "python3",
      "display_name": "Python 3"
    },
    "language_info": {
      "name": "python"
    }
  },
  "cells": [
    {
      "cell_type": "markdown",
      "metadata": {
        "id": "view-in-github",
        "colab_type": "text"
      },
      "source": [
        "<a href=\"https://colab.research.google.com/github/podongx2somm/A_codingtest/blob/park/%EC%BD%94%ED%85%8C%EC%9E%85%EB%AC%B8_DAY1(%EC%82%AC%EC%B9%99%EC%97%B0%EC%82%B0)_%EB%B0%95%ED%95%98%EB%A6%B0.ipynb\" target=\"_parent\"><img src=\"https://colab.research.google.com/assets/colab-badge.svg\" alt=\"Open In Colab\"/></a>"
      ]
    },
    {
      "cell_type": "markdown",
      "source": [
        "# 두수의 합"
      ],
      "metadata": {
        "id": "_ssHZiRLieQ-"
      }
    },
    {
      "cell_type": "markdown",
      "source": [
        "정수 num1과 num2가 주어질 때, num1과 num2의 합을 return하도록 soltuion 함수를 완성해주세요."
      ],
      "metadata": {
        "id": "6N6Yro6cilsR"
      }
    },
    {
      "cell_type": "code",
      "execution_count": 1,
      "metadata": {
        "id": "QAIuc1kMbZn9"
      },
      "outputs": [],
      "source": [
        "def solution(num1, num2):\n",
        "    answer = num1 + num2\n",
        "    return answer"
      ]
    },
    {
      "cell_type": "markdown",
      "source": [
        "# 두수의 차"
      ],
      "metadata": {
        "id": "t9qR-LziioX6"
      }
    },
    {
      "cell_type": "markdown",
      "source": [
        "정수 num1과 num2가 주어질 때, num1에서 num2를 뺀 값을 return하도록 soltuion 함수를 완성해주세요."
      ],
      "metadata": {
        "id": "nQr3fWm1iz1q"
      }
    },
    {
      "cell_type": "code",
      "source": [
        "def solution(num1, num2):\n",
        "    answer = num1 - num2\n",
        "    return answer"
      ],
      "metadata": {
        "id": "d-LuIv4liy80"
      },
      "execution_count": null,
      "outputs": []
    },
    {
      "cell_type": "markdown",
      "source": [
        "# 두수의 곱"
      ],
      "metadata": {
        "id": "F1le7XvPitcV"
      }
    },
    {
      "cell_type": "markdown",
      "source": [
        "정수 num1, num2가 매개변수 주어집니다. num1과 num2를 곱한 값을 return 하도록 solution 함수를 완성해주세요."
      ],
      "metadata": {
        "id": "Iczjv5jJi7hj"
      }
    },
    {
      "cell_type": "code",
      "source": [
        "def solution(num1, num2):\n",
        "    answer = num1 * num2\n",
        "    return answer"
      ],
      "metadata": {
        "id": "ElQFdh3ii7_Z"
      },
      "execution_count": null,
      "outputs": []
    },
    {
      "cell_type": "markdown",
      "source": [
        "# 몫 구하기"
      ],
      "metadata": {
        "id": "5BSIiExjitqW"
      }
    },
    {
      "cell_type": "markdown",
      "source": [
        "정수 num1, num2가 매개변수로 주어질 때, num1을 num2로 나눈 몫을 return 하도록 solution 함수를 완성해주세요."
      ],
      "metadata": {
        "id": "wuOGKwrjjGdq"
      }
    },
    {
      "cell_type": "code",
      "source": [
        "def solution(num1, num2):\n",
        "    answer = int(num1 / num2)\n",
        "    return answer"
      ],
      "metadata": {
        "id": "e8gd6GJ5iw2A"
      },
      "execution_count": 2,
      "outputs": []
    }
  ]
}