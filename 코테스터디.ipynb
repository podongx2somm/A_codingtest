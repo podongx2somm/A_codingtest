{
  "nbformat": 4,
  "nbformat_minor": 0,
  "metadata": {
    "colab": {
      "provenance": [],
      "authorship_tag": "ABX9TyOsIUV7rYGRP2emxdW5yNAz",
      "include_colab_link": true
    },
    "kernelspec": {
      "name": "python3",
      "display_name": "Python 3"
    },
    "language_info": {
      "name": "python"
    }
  },
  "cells": [
    {
      "cell_type": "markdown",
      "metadata": {
        "id": "view-in-github",
        "colab_type": "text"
      },
      "source": [
        "<a href=\"https://colab.research.google.com/github/podongx2somm/A_codingtest/blob/dasom/%EC%BD%94%ED%85%8C%EC%8A%A4%ED%84%B0%EB%94%94.ipynb\" target=\"_parent\"><img src=\"https://colab.research.google.com/assets/colab-badge.svg\" alt=\"Open In Colab\"/></a>"
      ]
    },
    {
      "cell_type": "markdown",
      "source": [
        "# 베스트 앨범 \n",
        "\n",
        "* 문제 설명 : 스트리밍 사이트에서 장르 별로 가장 많이 재생된 노래를 두 개씩 모아 베스트 앨범을 출시하려 한다. 노래는 고유 번호로 구분하며, 노래를 수록하는 기준은 다음과 같다. \n",
        "  * 1. 속한 노래가 많이 재생된 장르를 먼저 수록한다. \n",
        "  * 2. 장르 내에서 많이 재생된 노래를 먼저 수록한다. \n",
        "  * 3. 장르 내에서 재생 횟수가 같은 노래 중에서는 고유 번호가 낮은 노래를 먼저 수록한다. \n",
        "\n",
        "노래의 장르를 나타내는 문자열 배열 generes와 노래별 재생 횟수를 나타내는 정수 배열 plays가 주어질 때, 베스트 앨범에 들어갈 노래의 고유 번호를 순서대로 return하도록 solution 함수를 완성하세요. \n",
        "\n",
        "\n",
        "* 풀이시간 : over 30 mins \n",
        "\n",
        "* 문제 접근 방법 \n",
        "\n",
        "  * 장르를 key로 딕셔너리를 생성하여 재생횟수와 인덱스 값을 넣어 풀고자 하였다. \n",
        "  * 2개의 딕셔너리를 만들어, 하나는 각 장르별 총 재생횟수를 포함하여 정렬을 하였다. 나머지 하나는 인덱스와 재생횟수를 넣어 각각의 장르별로 몇 번의 재생이 되는지 파악하고자 하였다. \n",
        "\n",
        "  * 풀이 방법 2의 경우, 런타임에서 실패가 나왔다. "
      ],
      "metadata": {
        "id": "ZSTxlxA3Bv3E"
      }
    },
    {
      "cell_type": "code",
      "source": [
        "# 풀이 방법 1 \n",
        "def solution(genres, plays):\n",
        "    answer = []\n",
        "    genr_dic = {}\n",
        "    idx_dic = {}\n",
        "    song = []\n",
        "    for idx,(gen,play) in enumerate(zip(genres, plays)):\n",
        "        if gen not in genr_dic:\n",
        "            genr_dic[gen] = play\n",
        "        else:\n",
        "            genr_dic[gen] += play\n",
        "        if gen not in idx_dic:\n",
        "            idx_dic[gen] = [(idx, play)]\n",
        "        else:\n",
        "            idx_dic[gen] += [(idx, play)]\n",
        "    for k, v in sorted(genr_dic.items(), key = lambda item : item[1], reverse= True):\n",
        "        for i,p in sorted(idx_dic[k], key = lambda item : item[1], reverse = True)[:2]:\n",
        "            answer.append(i)\n",
        "    return answer\n",
        "\n",
        "    "
      ],
      "metadata": {
        "id": "wIARS_wsL9FR"
      },
      "execution_count": null,
      "outputs": []
    },
    {
      "cell_type": "code",
      "source": [
        "# 풀이 방법 2  (시간 초과)\n",
        "def solution(genres, plays):\n",
        "    songs = {k:v for k, v in zip(genres, plays)}\n",
        "    songs_s = sorted(songs.items(), key = lambda item : item[1], reverse = True)\n",
        "    \n",
        "    n_plays = [(i,g,p) for i,(g,p) in enumerate(zip(genres, plays))]\n",
        "    \n",
        "    result_set = []\n",
        "    for key in songs_s:\n",
        "        play = 0\n",
        "        result = []\n",
        "        for data in n_plays:\n",
        "            if key[0] == data[1]:\n",
        "                if data[-1] > play:\n",
        "                    play = data[-1]\n",
        "                    result.insert(0,data[0])\n",
        "            else:\n",
        "                result.append(data[0])\n",
        "\n",
        "        result_set.append(result[:2])\n",
        "        \n",
        "    return result_set[0] + result_set[1]"
      ],
      "metadata": {
        "id": "val40R-xL_cK"
      },
      "execution_count": null,
      "outputs": []
    },
    {
      "cell_type": "code",
      "source": [
        "# 다른 사람코드 \n",
        "\n",
        "def solution3(genres, plays):\n",
        "  answer = []\n",
        "  d = {e : [] for e in set(genres)}\n",
        "  for e in zip(genres, plays, range(len(plays))):\n",
        "    d[e[0]].append([e[1],e[2]])\n",
        "  genreSort= sorted(list(d.keys()), key = lambda x: sum(map(lambda y : y[0], d[x])), reverse = True)\n",
        "\n",
        "  for g in genreSort:\n",
        "    temp = [e[1] for e in sorted(d[g], key = lambda x : (x[0], -x[1]) , reverse = True)]\n",
        "    answer += temp[:min(len(temp), 2)]\n",
        "  return answer"
      ],
      "metadata": {
        "id": "DiSTNutDN7ha"
      },
      "execution_count": null,
      "outputs": []
    },
    {
      "cell_type": "code",
      "source": [
        "g = [\"classic\", \"pop\", \"classic\", \"classic\", \"pop\"] \n",
        "p = [500, 600, 150, 800, 2500]\n",
        "r = solution3(g,p)\n",
        "r"
      ],
      "metadata": {
        "colab": {
          "base_uri": "https://localhost:8080/"
        },
        "id": "L0auKI8jOma0",
        "outputId": "dc2381e9-52a0-4631-8c56-cd97b08c9b8b"
      },
      "execution_count": null,
      "outputs": [
        {
          "output_type": "execute_result",
          "data": {
            "text/plain": [
              "[4, 1, 3, 0]"
            ]
          },
          "metadata": {},
          "execution_count": 80
        }
      ]
    },
    {
      "cell_type": "code",
      "source": [],
      "metadata": {
        "id": "nRjqxDBROu0B"
      },
      "execution_count": null,
      "outputs": []
    }
  ]
}