{
  "nbformat": 4,
  "nbformat_minor": 0,
  "metadata": {
    "colab": {
      "provenance": [],
      "authorship_tag": "ABX9TyPfSE8VSyo1BZkvM+PqKm2y",
      "include_colab_link": true
    },
    "kernelspec": {
      "name": "python3",
      "display_name": "Python 3"
    },
    "language_info": {
      "name": "python"
    }
  },
  "cells": [
    {
      "cell_type": "markdown",
      "metadata": {
        "id": "view-in-github",
        "colab_type": "text"
      },
      "source": [
        "<a href=\"https://colab.research.google.com/github/podongx2somm/A_codingtest/blob/park/%EC%BD%94%ED%85%8C%EC%9E%85%EB%AC%B8_%EB%91%90%EC%88%98%EC%9D%98%ED%95%A9_%EB%B0%95%ED%95%98%EB%A6%B0.ipynb\" target=\"_parent\"><img src=\"https://colab.research.google.com/assets/colab-badge.svg\" alt=\"Open In Colab\"/></a>"
      ]
    },
    {
      "cell_type": "code",
      "execution_count": null,
      "metadata": {
        "id": "QAIuc1kMbZn9"
      },
      "outputs": [],
      "source": [
        "def solution(num1, num2):\n",
        "    answer = num1 + num2\n",
        "    return answer"
      ]
    }
  ]
}