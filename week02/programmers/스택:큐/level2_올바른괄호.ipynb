{
 "cells": [
  {
   "cell_type": "code",
   "execution_count": 18,
   "id": "56d1484f",
   "metadata": {},
   "outputs": [
    {
     "data": {
      "text/plain": [
       "False"
      ]
     },
     "execution_count": 18,
     "metadata": {},
     "output_type": "execute_result"
    }
   ],
   "source": [
    "def solution(s):\n",
    "    left = \"(\"\n",
    "    right = \")\"\n",
    "    \n",
    "    left_size = 0\n",
    "    right_size = 0\n",
    "    \n",
    "    answer = True\n",
    "    \n",
    "    for i in range(len(s)):\n",
    "        if(s[i] is left):\n",
    "            left_size += 1\n",
    "        elif(s[i] is right):\n",
    "            right_size += 1\n",
    "        \n",
    "        if(left_size != right_size):\n",
    "            answer = False\n",
    "            \n",
    "    if((s[0] != left) | (s[len(s)-1] != right)):\n",
    "        answer = False\n",
    "    \n",
    "    return answer\n",
    "\n",
    "s = \"((((())))))))))(((((()\"\n",
    "solution(s)"
   ]
  },
  {
   "cell_type": "code",
   "execution_count": 20,
   "id": "dc87e580",
   "metadata": {},
   "outputs": [
    {
     "data": {
      "text/plain": [
       "False"
      ]
     },
     "execution_count": 20,
     "metadata": {},
     "output_type": "execute_result"
    }
   ],
   "source": [
    "def solution(s):\n",
    "    s = []\n",
    "    answer = True\n",
    "    count = 0\n",
    "    \n",
    "    for i in range(len(s)):\n",
    "        if(s[i] == \"(\"):\n",
    "            count += 1\n",
    "        else:\n",
    "            if count > 0:\n",
    "                count -= 1\n",
    "            else:\n",
    "                return False\n",
    "    if answer > 0:\n",
    "        return False\n",
    "    return True\n",
    "\n",
    "s = \"((((())))))))))(((((()\"\n",
    "solution(s)"
   ]
  },
  {
   "cell_type": "code",
   "execution_count": null,
   "id": "3ab3784c",
   "metadata": {},
   "outputs": [],
   "source": []
  }
 ],
 "metadata": {
  "kernelspec": {
   "display_name": "Python 3 (ipykernel)",
   "language": "python",
   "name": "python3"
  },
  "language_info": {
   "codemirror_mode": {
    "name": "ipython",
    "version": 3
   },
   "file_extension": ".py",
   "mimetype": "text/x-python",
   "name": "python",
   "nbconvert_exporter": "python",
   "pygments_lexer": "ipython3",
   "version": "3.10.9"
  }
 },
 "nbformat": 4,
 "nbformat_minor": 5
}
